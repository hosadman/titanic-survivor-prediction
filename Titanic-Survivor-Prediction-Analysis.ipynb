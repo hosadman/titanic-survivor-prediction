{
 "cells": [
  {
   "cell_type": "markdown",
   "metadata": {},
   "source": [
    "# Titanic Survivor Prediction Analysis"
   ]
  },
  {
   "cell_type": "markdown",
   "metadata": {},
   "source": [
    "The famous disaster of the HMS Titanic is one of the most iconic moments of the 20th century. Most of the passengers passed away in the shipwreck, very few being able to get away. Along with this notebook file is a .csv file which includes the entire list of the names of the passengers onboard, along with a lot of their details. My job is to create a model that will successfully predict whether a passenger will have survived or not based on their attributes. Before that, we'll analyze the atrributes to see how they affect the survival rate of the passengers using libraries such as Pandas and using graphical representations using libraries like Matplotlib and Seaborn."
   ]
  },
  {
   "cell_type": "markdown",
   "metadata": {},
   "source": [
    "## Import dataset\n",
    "\n",
    "First we'll import Pandas and NumPy into our notebook file and then open our dataset. We'll save that into a dataframe. We'll then print the five rows of the dataframe to see whether it's loaded properly or not."
   ]
  },
  {
   "cell_type": "code",
   "execution_count": 1,
   "metadata": {},
   "outputs": [
    {
     "data": {
      "text/html": [
       "<div>\n",
       "<style scoped>\n",
       "    .dataframe tbody tr th:only-of-type {\n",
       "        vertical-align: middle;\n",
       "    }\n",
       "\n",
       "    .dataframe tbody tr th {\n",
       "        vertical-align: top;\n",
       "    }\n",
       "\n",
       "    .dataframe thead th {\n",
       "        text-align: right;\n",
       "    }\n",
       "</style>\n",
       "<table border=\"1\" class=\"dataframe\">\n",
       "  <thead>\n",
       "    <tr style=\"text-align: right;\">\n",
       "      <th></th>\n",
       "      <th>PassengerId</th>\n",
       "      <th>Survived</th>\n",
       "      <th>Pclass</th>\n",
       "      <th>Name</th>\n",
       "      <th>Sex</th>\n",
       "      <th>Age</th>\n",
       "      <th>SibSp</th>\n",
       "      <th>Parch</th>\n",
       "      <th>Ticket</th>\n",
       "      <th>Fare</th>\n",
       "      <th>Cabin</th>\n",
       "      <th>Embarked</th>\n",
       "    </tr>\n",
       "  </thead>\n",
       "  <tbody>\n",
       "    <tr>\n",
       "      <th>0</th>\n",
       "      <td>343</td>\n",
       "      <td>No</td>\n",
       "      <td>2</td>\n",
       "      <td>Collander, Mr. Erik Gustaf</td>\n",
       "      <td>male</td>\n",
       "      <td>28.0</td>\n",
       "      <td>0</td>\n",
       "      <td>0</td>\n",
       "      <td>248740</td>\n",
       "      <td>13.0000</td>\n",
       "      <td>NaN</td>\n",
       "      <td>S</td>\n",
       "    </tr>\n",
       "    <tr>\n",
       "      <th>1</th>\n",
       "      <td>76</td>\n",
       "      <td>No</td>\n",
       "      <td>3</td>\n",
       "      <td>Moen, Mr. Sigurd Hansen</td>\n",
       "      <td>male</td>\n",
       "      <td>25.0</td>\n",
       "      <td>0</td>\n",
       "      <td>0</td>\n",
       "      <td>348123</td>\n",
       "      <td>7.6500</td>\n",
       "      <td>F G73</td>\n",
       "      <td>S</td>\n",
       "    </tr>\n",
       "    <tr>\n",
       "      <th>2</th>\n",
       "      <td>641</td>\n",
       "      <td>No</td>\n",
       "      <td>3</td>\n",
       "      <td>Jensen, Mr. Hans Peder</td>\n",
       "      <td>male</td>\n",
       "      <td>20.0</td>\n",
       "      <td>0</td>\n",
       "      <td>0</td>\n",
       "      <td>350050</td>\n",
       "      <td>7.8542</td>\n",
       "      <td>NaN</td>\n",
       "      <td>S</td>\n",
       "    </tr>\n",
       "    <tr>\n",
       "      <th>3</th>\n",
       "      <td>568</td>\n",
       "      <td>No</td>\n",
       "      <td>3</td>\n",
       "      <td>Palsson, Mrs. Nils (Alma Cornelia Berglund)</td>\n",
       "      <td>female</td>\n",
       "      <td>29.0</td>\n",
       "      <td>0</td>\n",
       "      <td>4</td>\n",
       "      <td>349909</td>\n",
       "      <td>21.0750</td>\n",
       "      <td>NaN</td>\n",
       "      <td>S</td>\n",
       "    </tr>\n",
       "    <tr>\n",
       "      <th>4</th>\n",
       "      <td>672</td>\n",
       "      <td>No</td>\n",
       "      <td>1</td>\n",
       "      <td>Davidson, Mr. Thornton</td>\n",
       "      <td>male</td>\n",
       "      <td>31.0</td>\n",
       "      <td>1</td>\n",
       "      <td>0</td>\n",
       "      <td>F.C. 12750</td>\n",
       "      <td>52.0000</td>\n",
       "      <td>B71</td>\n",
       "      <td>S</td>\n",
       "    </tr>\n",
       "  </tbody>\n",
       "</table>\n",
       "</div>"
      ],
      "text/plain": [
       "   PassengerId Survived  Pclass                                         Name  \\\n",
       "0          343       No       2                   Collander, Mr. Erik Gustaf   \n",
       "1           76       No       3                      Moen, Mr. Sigurd Hansen   \n",
       "2          641       No       3                       Jensen, Mr. Hans Peder   \n",
       "3          568       No       3  Palsson, Mrs. Nils (Alma Cornelia Berglund)   \n",
       "4          672       No       1                       Davidson, Mr. Thornton   \n",
       "\n",
       "      Sex   Age  SibSp  Parch      Ticket     Fare  Cabin Embarked  \n",
       "0    male  28.0      0      0      248740  13.0000    NaN        S  \n",
       "1    male  25.0      0      0      348123   7.6500  F G73        S  \n",
       "2    male  20.0      0      0      350050   7.8542    NaN        S  \n",
       "3  female  29.0      0      4      349909  21.0750    NaN        S  \n",
       "4    male  31.0      1      0  F.C. 12750  52.0000    B71        S  "
      ]
     },
     "execution_count": 1,
     "metadata": {},
     "output_type": "execute_result"
    }
   ],
   "source": [
    "import pandas as pd\n",
    "import numpy as np\n",
    "\n",
    "df = pd.read_csv('titanic.csv', sep=';')\n",
    "\n",
    "df.head()"
   ]
  },
  {
   "cell_type": "markdown",
   "metadata": {},
   "source": [
    "Next, we'll check the shape of the dataframe to see the number of passengers and also check to see whether all the remaining columns have any NaN values or not."
   ]
  },
  {
   "cell_type": "code",
   "execution_count": 2,
   "metadata": {},
   "outputs": [
    {
     "name": "stdout",
     "output_type": "stream",
     "text": [
      "(891, 12)\n"
     ]
    },
    {
     "data": {
      "text/plain": [
       "PassengerId    891\n",
       "Survived       891\n",
       "Pclass         891\n",
       "Name           891\n",
       "Sex            891\n",
       "Age            714\n",
       "SibSp          891\n",
       "Parch          891\n",
       "Ticket         891\n",
       "Fare           891\n",
       "Cabin          204\n",
       "Embarked       889\n",
       "dtype: int64"
      ]
     },
     "execution_count": 2,
     "metadata": {},
     "output_type": "execute_result"
    }
   ],
   "source": [
    "print(df.shape)\n",
    "df.count()"
   ]
  },
  {
   "cell_type": "markdown",
   "metadata": {},
   "source": [
    "As we can see, there are a total of 891 rows meaning there are 891 passengers who's data is available to us. Also, checking the number of values for each of the columns shows that there are missing values for the columns \"Age\", \"Cabin\" and \"Embarked\", which can be taken into consideration when building models."
   ]
  },
  {
   "cell_type": "markdown",
   "metadata": {},
   "source": [
    "## Analyze dataset\n",
    "\n",
    "Now it's time to analyze the dataset, specifically the survival rate of the passengers based on chosen parameters. We mainly use Matplotlib as the library for different style of graphs."
   ]
  },
  {
   "cell_type": "markdown",
   "metadata": {},
   "source": [
    "The \"Survived\" column has string values \"Yes\" and \"No\", which we will convert to integer values 1 and 0 for modeling and graphical represenatation purposes."
   ]
  },
  {
   "cell_type": "code",
   "execution_count": 3,
   "metadata": {},
   "outputs": [
    {
     "data": {
      "text/html": [
       "<div>\n",
       "<style scoped>\n",
       "    .dataframe tbody tr th:only-of-type {\n",
       "        vertical-align: middle;\n",
       "    }\n",
       "\n",
       "    .dataframe tbody tr th {\n",
       "        vertical-align: top;\n",
       "    }\n",
       "\n",
       "    .dataframe thead th {\n",
       "        text-align: right;\n",
       "    }\n",
       "</style>\n",
       "<table border=\"1\" class=\"dataframe\">\n",
       "  <thead>\n",
       "    <tr style=\"text-align: right;\">\n",
       "      <th></th>\n",
       "      <th>PassengerId</th>\n",
       "      <th>Survived</th>\n",
       "      <th>Pclass</th>\n",
       "      <th>Name</th>\n",
       "      <th>Sex</th>\n",
       "      <th>Age</th>\n",
       "      <th>SibSp</th>\n",
       "      <th>Parch</th>\n",
       "      <th>Ticket</th>\n",
       "      <th>Fare</th>\n",
       "      <th>Cabin</th>\n",
       "      <th>Embarked</th>\n",
       "    </tr>\n",
       "  </thead>\n",
       "  <tbody>\n",
       "    <tr>\n",
       "      <th>0</th>\n",
       "      <td>343</td>\n",
       "      <td>0</td>\n",
       "      <td>2</td>\n",
       "      <td>Collander, Mr. Erik Gustaf</td>\n",
       "      <td>male</td>\n",
       "      <td>28.0</td>\n",
       "      <td>0</td>\n",
       "      <td>0</td>\n",
       "      <td>248740</td>\n",
       "      <td>13.0000</td>\n",
       "      <td>NaN</td>\n",
       "      <td>S</td>\n",
       "    </tr>\n",
       "    <tr>\n",
       "      <th>1</th>\n",
       "      <td>76</td>\n",
       "      <td>0</td>\n",
       "      <td>3</td>\n",
       "      <td>Moen, Mr. Sigurd Hansen</td>\n",
       "      <td>male</td>\n",
       "      <td>25.0</td>\n",
       "      <td>0</td>\n",
       "      <td>0</td>\n",
       "      <td>348123</td>\n",
       "      <td>7.6500</td>\n",
       "      <td>F G73</td>\n",
       "      <td>S</td>\n",
       "    </tr>\n",
       "    <tr>\n",
       "      <th>2</th>\n",
       "      <td>641</td>\n",
       "      <td>0</td>\n",
       "      <td>3</td>\n",
       "      <td>Jensen, Mr. Hans Peder</td>\n",
       "      <td>male</td>\n",
       "      <td>20.0</td>\n",
       "      <td>0</td>\n",
       "      <td>0</td>\n",
       "      <td>350050</td>\n",
       "      <td>7.8542</td>\n",
       "      <td>NaN</td>\n",
       "      <td>S</td>\n",
       "    </tr>\n",
       "    <tr>\n",
       "      <th>3</th>\n",
       "      <td>568</td>\n",
       "      <td>0</td>\n",
       "      <td>3</td>\n",
       "      <td>Palsson, Mrs. Nils (Alma Cornelia Berglund)</td>\n",
       "      <td>female</td>\n",
       "      <td>29.0</td>\n",
       "      <td>0</td>\n",
       "      <td>4</td>\n",
       "      <td>349909</td>\n",
       "      <td>21.0750</td>\n",
       "      <td>NaN</td>\n",
       "      <td>S</td>\n",
       "    </tr>\n",
       "    <tr>\n",
       "      <th>4</th>\n",
       "      <td>672</td>\n",
       "      <td>0</td>\n",
       "      <td>1</td>\n",
       "      <td>Davidson, Mr. Thornton</td>\n",
       "      <td>male</td>\n",
       "      <td>31.0</td>\n",
       "      <td>1</td>\n",
       "      <td>0</td>\n",
       "      <td>F.C. 12750</td>\n",
       "      <td>52.0000</td>\n",
       "      <td>B71</td>\n",
       "      <td>S</td>\n",
       "    </tr>\n",
       "  </tbody>\n",
       "</table>\n",
       "</div>"
      ],
      "text/plain": [
       "   PassengerId  Survived  Pclass                                         Name  \\\n",
       "0          343         0       2                   Collander, Mr. Erik Gustaf   \n",
       "1           76         0       3                      Moen, Mr. Sigurd Hansen   \n",
       "2          641         0       3                       Jensen, Mr. Hans Peder   \n",
       "3          568         0       3  Palsson, Mrs. Nils (Alma Cornelia Berglund)   \n",
       "4          672         0       1                       Davidson, Mr. Thornton   \n",
       "\n",
       "      Sex   Age  SibSp  Parch      Ticket     Fare  Cabin Embarked  \n",
       "0    male  28.0      0      0      248740  13.0000    NaN        S  \n",
       "1    male  25.0      0      0      348123   7.6500  F G73        S  \n",
       "2    male  20.0      0      0      350050   7.8542    NaN        S  \n",
       "3  female  29.0      0      4      349909  21.0750    NaN        S  \n",
       "4    male  31.0      1      0  F.C. 12750  52.0000    B71        S  "
      ]
     },
     "execution_count": 3,
     "metadata": {},
     "output_type": "execute_result"
    }
   ],
   "source": [
    "d = {'Yes': 1, 'No': 0}\n",
    "df['Survived'] = df['Survived'].map(d)\n",
    "\n",
    "df.head()"
   ]
  },
  {
   "cell_type": "markdown",
   "metadata": {},
   "source": [
    "### Number of passengers in each Passenger Class\n",
    "\n",
    "Now, we'll graph the percentage of passengers in each passenger class. First, we need to import the Matplotlib library."
   ]
  },
  {
   "cell_type": "code",
   "execution_count": 4,
   "metadata": {},
   "outputs": [
    {
     "data": {
      "image/png": "[encoded data removed]",
      "text/plain": [
       "<Figure size 432x288 with 1 Axes>"
      ]
     },
     "metadata": {},
     "output_type": "display_data"
    }
   ],
   "source": [
    "%matplotlib inline\n",
    "import matplotlib.pyplot as plt\n",
    "import seaborn as sns\n",
    "\n",
    "sns.set_style('whitegrid')\n",
    "\n",
    "plf = df['Pclass'].value_counts(normalize=True)\n",
    "plfg = sns.barplot(x=plf.index, y=plf, palette=\"GnBu_d\")\n",
    "plt.xlabel('Class Type')\n",
    "plt.ylabel('Percentage')\n",
    "plt.title('Percentage of passengers in each class')\n",
    "plfg.set_xticklabels(plfg.get_xticklabels(), rotation=90)\n",
    "\n",
    "plt.show()"
   ]
  },
  {
   "cell_type": "markdown",
   "metadata": {},
   "source": [
    "From the above graph, we see that almost 60 percent of passengers belonged to the third class, with first class being over 20 percent and second class being under 20 percent."
   ]
  },
  {
   "cell_type": "markdown",
   "metadata": {},
   "source": [
    "### Number of passengers per gender\n",
    "\n",
    "Now, we'll graph the percentage of passengers per gender."
   ]
  },
  {
   "cell_type": "code",
   "execution_count": 5,
   "metadata": {},
   "outputs": [
    {
     "data": {
      "image/png": "[encoded data removed]",
      "text/plain": [
       "<Figure size 432x288 with 1 Axes>"
      ]
     },
     "metadata": {},
     "output_type": "display_data"
    }
   ],
   "source": [
    "plf = df['Sex'].value_counts(normalize=True)\n",
    "plfg = sns.barplot(x=plf.index, y=plf, palette=\"GnBu_d\")\n",
    "plt.xlabel('Gender')\n",
    "plt.ylabel('Percentage')\n",
    "plt.title('Percentage of passengers in each gender')\n",
    "plfg.set_xticklabels(plfg.get_xticklabels(), rotation=90)\n",
    "\n",
    "plt.show()"
   ]
  },
  {
   "cell_type": "markdown",
   "metadata": {},
   "source": [
    "From the above graph, we see that, the passenger count were predominantly male, numbering close to 65 percent."
   ]
  },
  {
   "cell_type": "markdown",
   "metadata": {},
   "source": [
    "### Passengers' age with regards to their passenger class\n",
    "\n",
    "Now, we'll use a type of graph called the kernel density estimation graph to visualize the density of the passengers' age with their respective class and compare them."
   ]
  },
  {
   "cell_type": "code",
   "execution_count": 6,
   "metadata": {},
   "outputs": [
    {
     "data": {
      "image/png": "[encoded data removed]",
      "text/plain": [
       "<Figure size 432x288 with 1 Axes>"
      ]
     },
     "metadata": {
      "needs_background": "light"
     },
     "output_type": "display_data"
    }
   ],
   "source": [
    "for x in [1,2,3]:\n",
    "    df['Age'][df['Pclass'] == x].plot(kind='kde')\n",
    "plt.title('Age with regards to passenger class')\n",
    "plt.legend(('1st','2nd','3rd'))\n",
    "\n",
    "plt.show()"
   ]
  },
  {
   "cell_type": "markdown",
   "metadata": {},
   "source": [
    "From the graph, we can see that, the third class passengers had a younger age density compared to the first class, who had the older population. We can derive that, the younger the age, the smaller the income they had and the lower ticket prices they could manage."
   ]
  },
  {
   "cell_type": "markdown",
   "metadata": {},
   "source": [
    "### The number of survivors\n",
    "\n",
    "Now it's time to find out the exact number of survivors in the disaster."
   ]
  },
  {
   "cell_type": "code",
   "execution_count": 7,
   "metadata": {},
   "outputs": [
    {
     "data": {
      "text/plain": [
       "0    549\n",
       "1    342\n",
       "Name: Survived, dtype: int64"
      ]
     },
     "execution_count": 7,
     "metadata": {},
     "output_type": "execute_result"
    }
   ],
   "source": [
    "df['Survived'].value_counts()"
   ]
  },
  {
   "cell_type": "markdown",
   "metadata": {},
   "source": [
    "From the above, we see that only 342 people have survived the disaster. Now we'll see the graphical representation of the said data."
   ]
  },
  {
   "cell_type": "code",
   "execution_count": 6,
   "metadata": {},
   "outputs": [
    {
     "data": {
      "image/png": "[encoded data removed]",
      "text/plain": [
       "<Figure size 432x288 with 1 Axes>"
      ]
     },
     "metadata": {},
     "output_type": "display_data"
    }
   ],
   "source": [
    "plf = df['Survived'].value_counts(normalize=True)\n",
    "plfg = sns.barplot(x=plf.index, y=plf, palette=\"GnBu_d\")\n",
    "plt.xlabel('Survived or not (1 or 0)')\n",
    "plt.ylabel('Percentage')\n",
    "plt.title('Percentage of the survived')\n",
    "plfg.set_xticklabels(plfg.get_xticklabels(), rotation=90)\n",
    "\n",
    "plt.show()"
   ]
  },
  {
   "cell_type": "markdown",
   "metadata": {},
   "source": [
    "From the above graph, we can see that only 40 percent of the people survived the disaster."
   ]
  },
  {
   "cell_type": "markdown",
   "metadata": {},
   "source": [
    "### Number of survivors with regards to age\n",
    "\n",
    "Now, we'll use a scatter graph to see the survivors rate with regards to age."
   ]
  },
  {
   "cell_type": "code",
   "execution_count": 9,
   "metadata": {},
   "outputs": [
    {
     "data": {
      "image/png": "[encoded data removed]",
      "text/plain": [
       "<Figure size 432x288 with 1 Axes>"
      ]
     },
     "metadata": {
      "needs_background": "light"
     },
     "output_type": "display_data"
    }
   ],
   "source": [
    "plt.scatter(df['Survived'], df['Age'])\n",
    "plt.title('Survivors wrt age')\n",
    "\n",
    "plt.show()"
   ]
  },
  {
   "cell_type": "markdown",
   "metadata": {},
   "source": [
    "If we look at the graph, we see that some of the older population didn't survive the disaster whereas, some of the younger people, for example the kids, survived. But overall, the survival rate with regards to age is quite even."
   ]
  },
  {
   "cell_type": "markdown",
   "metadata": {},
   "source": [
    "### Number of survivors in terms of gender\n",
    "\n",
    "Now, we'll graph the percentage of survivors in terms of gender."
   ]
  },
  {
   "cell_type": "code",
   "execution_count": 7,
   "metadata": {},
   "outputs": [
    {
     "data": {
      "image/png": "[encoded data removed]",
      "text/plain": [
       "<Figure size 1440x720 with 2 Axes>"
      ]
     },
     "metadata": {},
     "output_type": "display_data"
    }
   ],
   "source": [
    "%matplotlib inline\n",
    "\n",
    "sns.set_style('whitegrid')\n",
    "\n",
    "plt.figure(figsize=(20,10))\n",
    "plt.subplot(2,2,1)\n",
    "plf = df['Survived'][df['Sex'] == 'male'].value_counts(normalize=True)\n",
    "plfg = sns.barplot(x=plf.index, y=plf, palette=\"GnBu_d\")\n",
    "plt.xlabel('Survived or Not (1 or 0)')\n",
    "plt.ylabel('Percentage')\n",
    "plt.title('Percentage of male survivors')\n",
    "plfg.set_xticklabels(plfg.get_xticklabels(), rotation=90)\n",
    "\n",
    "plt.subplot(2,2,2)\n",
    "plf = df['Survived'][df['Sex'] == 'female'].value_counts(normalize=True)\n",
    "plfg = sns.barplot(x=plf.index, y=plf, palette=\"OrRd_d\")\n",
    "plt.xlabel('Survived or Not (1 or 0)')\n",
    "plt.ylabel('Percentage')\n",
    "plt.title('Percentage of female survivors')\n",
    "plfg.set_xticklabels(plfg.get_xticklabels(), rotation=90)\n",
    "\n",
    "plt.show()"
   ]
  },
  {
   "cell_type": "markdown",
   "metadata": {},
   "source": [
    "From the above graph, we see that almost 80 percent of males didn't survive, which is an overwhelming amount. Contrary to the males, the females had an overwhelming survival rate, rising upto 70 percent. We can derive that, the female population were preferred to be saved and were the priority to be put into lifeboats."
   ]
  },
  {
   "cell_type": "markdown",
   "metadata": {},
   "source": [
    "### Number of survivors in terms of Passenger class\n",
    "\n",
    "Now, let's visualize the survival rate in terms of the three passeneger classes."
   ]
  },
  {
   "cell_type": "code",
   "execution_count": 8,
   "metadata": {},
   "outputs": [
    {
     "data": {
      "image/png": "[encoded data removed]",
      "text/plain": [
       "<Figure size 1440x720 with 2 Axes>"
      ]
     },
     "metadata": {},
     "output_type": "display_data"
    }
   ],
   "source": [
    "plt.figure(figsize=(20,10))\n",
    "plt.subplot(2,2,1)\n",
    "plf = df['Survived'][df['Pclass'] == 1].value_counts(normalize=True)\n",
    "plfg = sns.barplot(x=plf.index, y=plf, palette=\"GnBu_d\")\n",
    "plt.xlabel('Survived or Not (1 or 0)')\n",
    "plt.ylabel('Percentage')\n",
    "plt.title('Percentage of 1st class survivors')\n",
    "plfg.set_xticklabels(plfg.get_xticklabels(), rotation=90)\n",
    "\n",
    "plt.subplot(2,2,2)\n",
    "plf = df['Survived'][df['Pclass'] == 3].value_counts(normalize=True)\n",
    "plfg = sns.barplot(x=plf.index, y=plf, palette=\"OrRd_d\")\n",
    "plt.xlabel('Survived or Not (1 or 0)')\n",
    "plt.ylabel('Percentage')\n",
    "plt.title('Percentage of 3rd class survivors')\n",
    "plfg.set_xticklabels(plfg.get_xticklabels(), rotation=90)\n",
    "\n",
    "plt.show()"
   ]
  },
  {
   "cell_type": "markdown",
   "metadata": {},
   "source": [
    "As seen from the above graph, about 60 percent of the first class passengers survived the disaster. Contrary to the first class passengers, the majority of the third class passengers, around 75 percent perished in the shipwreck. To summarise, the probability of survival was massively dependent on the ticket class of the passenger as the first class passengers were preferred in terms of loading up the lifeboats."
   ]
  },
  {
   "cell_type": "markdown",
   "metadata": {},
   "source": [
    "Let's summarise the entire thing with a kde graphical representation."
   ]
  },
  {
   "cell_type": "code",
   "execution_count": 14,
   "metadata": {},
   "outputs": [
    {
     "data": {
      "image/png": "[encoded data removed]",
      "text/plain": [
       "<Figure size 432x288 with 1 Axes>"
      ]
     },
     "metadata": {
      "needs_background": "light"
     },
     "output_type": "display_data"
    }
   ],
   "source": [
    "for x in [1,2,3]:\n",
    "    df['Survived'][df['Pclass'] == x].plot(kind='kde')\n",
    "plt.title('Survival with regards to passenger class')\n",
    "plt.legend(('1st','2nd','3rd'))\n",
    "\n",
    "plt.show()"
   ]
  },
  {
   "cell_type": "markdown",
   "metadata": {},
   "source": [
    "### Number of survivors in terms of gender and passenger class\n",
    "\n",
    "Now, it's time to apply multiple conditions on our dataset and graph the data. Let's use both the gender and the passenger class of a passenger to see whether what variations we get in data."
   ]
  },
  {
   "cell_type": "code",
   "execution_count": 10,
   "metadata": {},
   "outputs": [
    {
     "data": {
      "image/png": "[encoded data removed]",
      "text/plain": [
       "<Figure size 1440x720 with 2 Axes>"
      ]
     },
     "metadata": {},
     "output_type": "display_data"
    }
   ],
   "source": [
    "plt.figure(figsize=(20,10))\n",
    "plt.subplot(2,2,1)\n",
    "plf = df['Survived'][(df['Sex'] == 'male') & (df['Pclass'] == 1)].value_counts(normalize=True)\n",
    "plfg = sns.barplot(x=plf.index, y=plf, palette=\"GnBu_d\")\n",
    "plt.xlabel('Survived or Not (1 or 0)')\n",
    "plt.ylabel('Percentage')\n",
    "plt.title('Percentage of first class male survivors')\n",
    "plfg.set_xticklabels(plfg.get_xticklabels(), rotation=90)\n",
    "\n",
    "plt.subplot(2,2,2)\n",
    "plf = df['Survived'][(df['Sex'] == 'male') & (df['Pclass'] == 3)].value_counts(normalize=True)\n",
    "plfg = sns.barplot(x=plf.index, y=plf, palette=\"OrRd_d\")\n",
    "plt.xlabel('Survived or Not (1 or 0)')\n",
    "plt.ylabel('Percentage')\n",
    "plt.title('Percentage of third class male survivors')\n",
    "plfg.set_xticklabels(plfg.get_xticklabels(), rotation=90)\n",
    "\n",
    "plt.show()"
   ]
  },
  {
   "cell_type": "markdown",
   "metadata": {},
   "source": [
    "From the graph, it can be seen that around 60 percent of the first class males didn't survive. Similar to the previous graph, the males of the third class don't survive, even though the percentage of not surviving is much higher. To summarise, the males were susceptible to not survive the disaster, regardless of their passenger class."
   ]
  },
  {
   "cell_type": "markdown",
   "metadata": {},
   "source": [
    "Now, let's focus on the female population of the Titanic."
   ]
  },
  {
   "cell_type": "code",
   "execution_count": 11,
   "metadata": {},
   "outputs": [
    {
     "data": {
      "image/png": "[encoded data removed]",
      "text/plain": [
       "<Figure size 1440x720 with 2 Axes>"
      ]
     },
     "metadata": {},
     "output_type": "display_data"
    }
   ],
   "source": [
    "plt.figure(figsize=(20,10))\n",
    "plt.subplot(2,2,1)\n",
    "plf = df['Survived'][(df['Sex'] == 'female') & (df['Pclass'] == 1)].value_counts(normalize=True)\n",
    "plfg = sns.barplot(x=plf.index, y=plf, palette=\"GnBu_d\")\n",
    "plt.xlabel('Survived or Not (1 or 0)')\n",
    "plt.ylabel('Percentage')\n",
    "plt.title('Percentage of first class female survivors')\n",
    "plfg.set_xticklabels(plfg.get_xticklabels(), rotation=90)\n",
    "\n",
    "plt.subplot(2,2,2)\n",
    "plf = df['Survived'][(df['Sex'] == 'female') & (df['Pclass'] == 3)].value_counts(normalize=True)\n",
    "plfg = sns.barplot(x=plf.index, y=plf, palette=\"OrRd_d\")\n",
    "plt.xlabel('Survived or Not (1 or 0)')\n",
    "plt.ylabel('Percentage')\n",
    "plt.title('Percentage of third class female survivors')\n",
    "plfg.set_xticklabels(plfg.get_xticklabels(), rotation=90)\n",
    "\n",
    "plt.show()"
   ]
  },
  {
   "cell_type": "markdown",
   "metadata": {},
   "source": [
    "From the graph, we can see that almost entirely of the first class females survived the disaster. Contrary to the first class females, the survival rate of the third class female passengers is 50 percent, which is much lower. But overall, compared to the males, the female population were preferred when it came to saving. Of them, the first class females were preferred to the third class."
   ]
  },
  {
   "cell_type": "markdown",
   "metadata": {},
   "source": [
    "From all the analyses above, we can come up with certain conclusions, like the survival chances of a passenger depended on his/her gender and their ticket class. However, certain conditions like age didn't matter as much in terms of survival."
   ]
  },
  {
   "cell_type": "markdown",
   "metadata": {},
   "source": [
    "Now, since we're done with the data analysis, time to move on to the next phase, which is the construction of the machine learning models in order to predict the survival chances of a passenger."
   ]
  },
  {
   "cell_type": "markdown",
   "metadata": {},
   "source": [
    "## Constructing the prediction models"
   ]
  },
  {
   "cell_type": "markdown",
   "metadata": {},
   "source": [
    "Before constructing the models, we have to take care of the columns with the missing values."
   ]
  },
  {
   "cell_type": "code",
   "execution_count": 4,
   "metadata": {},
   "outputs": [
    {
     "data": {
      "text/html": [
       "<div>\n",
       "<style scoped>\n",
       "    .dataframe tbody tr th:only-of-type {\n",
       "        vertical-align: middle;\n",
       "    }\n",
       "\n",
       "    .dataframe tbody tr th {\n",
       "        vertical-align: top;\n",
       "    }\n",
       "\n",
       "    .dataframe thead th {\n",
       "        text-align: right;\n",
       "    }\n",
       "</style>\n",
       "<table border=\"1\" class=\"dataframe\">\n",
       "  <thead>\n",
       "    <tr style=\"text-align: right;\">\n",
       "      <th></th>\n",
       "      <th>PassengerId</th>\n",
       "      <th>Survived</th>\n",
       "      <th>Pclass</th>\n",
       "      <th>Name</th>\n",
       "      <th>Sex</th>\n",
       "      <th>Age</th>\n",
       "      <th>SibSp</th>\n",
       "      <th>Parch</th>\n",
       "      <th>Ticket</th>\n",
       "      <th>Fare</th>\n",
       "      <th>Cabin</th>\n",
       "      <th>Embarked</th>\n",
       "    </tr>\n",
       "  </thead>\n",
       "  <tbody>\n",
       "    <tr>\n",
       "      <th>0</th>\n",
       "      <td>343</td>\n",
       "      <td>0</td>\n",
       "      <td>2</td>\n",
       "      <td>Collander, Mr. Erik Gustaf</td>\n",
       "      <td>male</td>\n",
       "      <td>28.0</td>\n",
       "      <td>0</td>\n",
       "      <td>0</td>\n",
       "      <td>248740</td>\n",
       "      <td>13.0000</td>\n",
       "      <td>NaN</td>\n",
       "      <td>S</td>\n",
       "    </tr>\n",
       "    <tr>\n",
       "      <th>1</th>\n",
       "      <td>76</td>\n",
       "      <td>0</td>\n",
       "      <td>3</td>\n",
       "      <td>Moen, Mr. Sigurd Hansen</td>\n",
       "      <td>male</td>\n",
       "      <td>25.0</td>\n",
       "      <td>0</td>\n",
       "      <td>0</td>\n",
       "      <td>348123</td>\n",
       "      <td>7.6500</td>\n",
       "      <td>F G73</td>\n",
       "      <td>S</td>\n",
       "    </tr>\n",
       "    <tr>\n",
       "      <th>2</th>\n",
       "      <td>641</td>\n",
       "      <td>0</td>\n",
       "      <td>3</td>\n",
       "      <td>Jensen, Mr. Hans Peder</td>\n",
       "      <td>male</td>\n",
       "      <td>20.0</td>\n",
       "      <td>0</td>\n",
       "      <td>0</td>\n",
       "      <td>350050</td>\n",
       "      <td>7.8542</td>\n",
       "      <td>NaN</td>\n",
       "      <td>S</td>\n",
       "    </tr>\n",
       "    <tr>\n",
       "      <th>3</th>\n",
       "      <td>568</td>\n",
       "      <td>0</td>\n",
       "      <td>3</td>\n",
       "      <td>Palsson, Mrs. Nils (Alma Cornelia Berglund)</td>\n",
       "      <td>female</td>\n",
       "      <td>29.0</td>\n",
       "      <td>0</td>\n",
       "      <td>4</td>\n",
       "      <td>349909</td>\n",
       "      <td>21.0750</td>\n",
       "      <td>NaN</td>\n",
       "      <td>S</td>\n",
       "    </tr>\n",
       "    <tr>\n",
       "      <th>4</th>\n",
       "      <td>672</td>\n",
       "      <td>0</td>\n",
       "      <td>1</td>\n",
       "      <td>Davidson, Mr. Thornton</td>\n",
       "      <td>male</td>\n",
       "      <td>31.0</td>\n",
       "      <td>1</td>\n",
       "      <td>0</td>\n",
       "      <td>F.C. 12750</td>\n",
       "      <td>52.0000</td>\n",
       "      <td>B71</td>\n",
       "      <td>S</td>\n",
       "    </tr>\n",
       "  </tbody>\n",
       "</table>\n",
       "</div>"
      ],
      "text/plain": [
       "   PassengerId  Survived  Pclass                                         Name  \\\n",
       "0          343         0       2                   Collander, Mr. Erik Gustaf   \n",
       "1           76         0       3                      Moen, Mr. Sigurd Hansen   \n",
       "2          641         0       3                       Jensen, Mr. Hans Peder   \n",
       "3          568         0       3  Palsson, Mrs. Nils (Alma Cornelia Berglund)   \n",
       "4          672         0       1                       Davidson, Mr. Thornton   \n",
       "\n",
       "      Sex   Age  SibSp  Parch      Ticket     Fare  Cabin Embarked  \n",
       "0    male  28.0      0      0      248740  13.0000    NaN        S  \n",
       "1    male  25.0      0      0      348123   7.6500  F G73        S  \n",
       "2    male  20.0      0      0      350050   7.8542    NaN        S  \n",
       "3  female  29.0      0      4      349909  21.0750    NaN        S  \n",
       "4    male  31.0      1      0  F.C. 12750  52.0000    B71        S  "
      ]
     },
     "execution_count": 4,
     "metadata": {},
     "output_type": "execute_result"
    }
   ],
   "source": [
    "df = df.dropna(subset=['Age','Embarked'])\n",
    "\n",
    "df.reset_index(drop=True, inplace=True)\n",
    "\n",
    "df.head()"
   ]
  },
  {
   "cell_type": "code",
   "execution_count": 5,
   "metadata": {},
   "outputs": [
    {
     "data": {
      "text/plain": [
       "(712, 12)"
      ]
     },
     "execution_count": 5,
     "metadata": {},
     "output_type": "execute_result"
    }
   ],
   "source": [
    "df.shape"
   ]
  },
  {
   "cell_type": "markdown",
   "metadata": {},
   "source": [
    "The above dataframe now has 712 rows of passenger data after the deletion of the incomplete data."
   ]
  },
  {
   "cell_type": "markdown",
   "metadata": {},
   "source": [
    "Now, let's take a look at the datatypes for each column"
   ]
  },
  {
   "cell_type": "code",
   "execution_count": 6,
   "metadata": {},
   "outputs": [
    {
     "data": {
      "text/plain": [
       "PassengerId      int64\n",
       "Survived         int64\n",
       "Pclass           int64\n",
       "Name            object\n",
       "Sex             object\n",
       "Age            float64\n",
       "SibSp            int64\n",
       "Parch            int64\n",
       "Ticket          object\n",
       "Fare           float64\n",
       "Cabin           object\n",
       "Embarked        object\n",
       "dtype: object"
      ]
     },
     "execution_count": 6,
     "metadata": {},
     "output_type": "execute_result"
    }
   ],
   "source": [
    "df.dtypes"
   ]
  },
  {
   "cell_type": "markdown",
   "metadata": {},
   "source": [
    "We can get rid of some unnecessary columns to reduce the dataframe memory size and then convert the remaining columns which are object by element into integer values, without which we'll be unable to construct models."
   ]
  },
  {
   "cell_type": "code",
   "execution_count": 7,
   "metadata": {},
   "outputs": [
    {
     "data": {
      "text/html": [
       "<div>\n",
       "<style scoped>\n",
       "    .dataframe tbody tr th:only-of-type {\n",
       "        vertical-align: middle;\n",
       "    }\n",
       "\n",
       "    .dataframe tbody tr th {\n",
       "        vertical-align: top;\n",
       "    }\n",
       "\n",
       "    .dataframe thead th {\n",
       "        text-align: right;\n",
       "    }\n",
       "</style>\n",
       "<table border=\"1\" class=\"dataframe\">\n",
       "  <thead>\n",
       "    <tr style=\"text-align: right;\">\n",
       "      <th></th>\n",
       "      <th>Survived</th>\n",
       "      <th>Pclass</th>\n",
       "      <th>Sex</th>\n",
       "      <th>Age</th>\n",
       "      <th>SibSp</th>\n",
       "      <th>Parch</th>\n",
       "      <th>Fare</th>\n",
       "      <th>Embarked</th>\n",
       "    </tr>\n",
       "  </thead>\n",
       "  <tbody>\n",
       "    <tr>\n",
       "      <th>0</th>\n",
       "      <td>0</td>\n",
       "      <td>2</td>\n",
       "      <td>male</td>\n",
       "      <td>28.0</td>\n",
       "      <td>0</td>\n",
       "      <td>0</td>\n",
       "      <td>13.0000</td>\n",
       "      <td>S</td>\n",
       "    </tr>\n",
       "    <tr>\n",
       "      <th>1</th>\n",
       "      <td>0</td>\n",
       "      <td>3</td>\n",
       "      <td>male</td>\n",
       "      <td>25.0</td>\n",
       "      <td>0</td>\n",
       "      <td>0</td>\n",
       "      <td>7.6500</td>\n",
       "      <td>S</td>\n",
       "    </tr>\n",
       "    <tr>\n",
       "      <th>2</th>\n",
       "      <td>0</td>\n",
       "      <td>3</td>\n",
       "      <td>male</td>\n",
       "      <td>20.0</td>\n",
       "      <td>0</td>\n",
       "      <td>0</td>\n",
       "      <td>7.8542</td>\n",
       "      <td>S</td>\n",
       "    </tr>\n",
       "    <tr>\n",
       "      <th>3</th>\n",
       "      <td>0</td>\n",
       "      <td>3</td>\n",
       "      <td>female</td>\n",
       "      <td>29.0</td>\n",
       "      <td>0</td>\n",
       "      <td>4</td>\n",
       "      <td>21.0750</td>\n",
       "      <td>S</td>\n",
       "    </tr>\n",
       "    <tr>\n",
       "      <th>4</th>\n",
       "      <td>0</td>\n",
       "      <td>1</td>\n",
       "      <td>male</td>\n",
       "      <td>31.0</td>\n",
       "      <td>1</td>\n",
       "      <td>0</td>\n",
       "      <td>52.0000</td>\n",
       "      <td>S</td>\n",
       "    </tr>\n",
       "  </tbody>\n",
       "</table>\n",
       "</div>"
      ],
      "text/plain": [
       "   Survived  Pclass     Sex   Age  SibSp  Parch     Fare Embarked\n",
       "0         0       2    male  28.0      0      0  13.0000        S\n",
       "1         0       3    male  25.0      0      0   7.6500        S\n",
       "2         0       3    male  20.0      0      0   7.8542        S\n",
       "3         0       3  female  29.0      0      4  21.0750        S\n",
       "4         0       1    male  31.0      1      0  52.0000        S"
      ]
     },
     "execution_count": 7,
     "metadata": {},
     "output_type": "execute_result"
    }
   ],
   "source": [
    "df = df.drop(['PassengerId','Name','Ticket','Cabin'], axis=1)\n",
    "\n",
    "df.head()"
   ]
  },
  {
   "cell_type": "markdown",
   "metadata": {},
   "source": [
    "To convert object columns into integer values, we need to import LabelEncoder library from the sklearn.preprocessing package"
   ]
  },
  {
   "cell_type": "code",
   "execution_count": 8,
   "metadata": {},
   "outputs": [],
   "source": [
    "from sklearn.preprocessing import LabelEncoder\n",
    "labelencoder = LabelEncoder()"
   ]
  },
  {
   "cell_type": "markdown",
   "metadata": {},
   "source": [
    "Now, we change the datatype of the two object columns"
   ]
  },
  {
   "cell_type": "code",
   "execution_count": 9,
   "metadata": {},
   "outputs": [],
   "source": [
    "df.iloc[:,2] = labelencoder.fit_transform(df.iloc[:,2].values)\n",
    "df.iloc[:,7] = labelencoder.fit_transform(df.iloc[:,7].values)"
   ]
  },
  {
   "cell_type": "markdown",
   "metadata": {},
   "source": [
    "Let's recheck the datatypes now."
   ]
  },
  {
   "cell_type": "code",
   "execution_count": 10,
   "metadata": {},
   "outputs": [
    {
     "data": {
      "text/plain": [
       "Survived      int64\n",
       "Pclass        int64\n",
       "Sex           int32\n",
       "Age         float64\n",
       "SibSp         int64\n",
       "Parch         int64\n",
       "Fare        float64\n",
       "Embarked      int32\n",
       "dtype: object"
      ]
     },
     "execution_count": 10,
     "metadata": {},
     "output_type": "execute_result"
    }
   ],
   "source": [
    "df.dtypes"
   ]
  },
  {
   "cell_type": "markdown",
   "metadata": {},
   "source": [
    "Hence, all the columns have int/float values now."
   ]
  },
  {
   "cell_type": "markdown",
   "metadata": {},
   "source": [
    "Now, that we've taken care of all the columns, let's dive in and create some machine learning models."
   ]
  },
  {
   "cell_type": "markdown",
   "metadata": {},
   "source": [
    "## Creating machine learning models for prediction\n",
    "\n",
    "Now, we can finally use the data in the dataframe to construct models for predicting survival chances for the passengers of Titanic. First, we have to separate the input or independent values and the output or the dependent values into two separate arrays - namely X and Y."
   ]
  },
  {
   "cell_type": "code",
   "execution_count": 11,
   "metadata": {},
   "outputs": [],
   "source": [
    "X = df.iloc[:,1:8].values\n",
    "Y = df.iloc[:,0].values"
   ]
  },
  {
   "cell_type": "markdown",
   "metadata": {},
   "source": [
    "After this, we separate the data into training and testing values for the models. For this, we need to import train_test_split library."
   ]
  },
  {
   "cell_type": "code",
   "execution_count": 12,
   "metadata": {},
   "outputs": [],
   "source": [
    "from sklearn.model_selection import train_test_split\n",
    "X_train, X_test, Y_train, Y_test = train_test_split(X, Y, test_size=0.2, random_state=0)"
   ]
  },
  {
   "cell_type": "markdown",
   "metadata": {},
   "source": [
    "Now, we need to scale all the data because raw data tend to have a wide variation. Thus, a lot of machine learning algorithms don't work without normalizing the values. Hence, we scale the values. To scale all the values, we need to import the StandardScaler library."
   ]
  },
  {
   "cell_type": "code",
   "execution_count": 13,
   "metadata": {},
   "outputs": [],
   "source": [
    "from sklearn.preprocessing import StandardScaler\n",
    "standardscaler = StandardScaler()\n",
    "X_train = standardscaler.fit_transform(X_train)\n",
    "X_test = standardscaler.fit_transform(X_test)"
   ]
  },
  {
   "cell_type": "markdown",
   "metadata": {},
   "source": [
    "We'll create a separate function which will include different types of models which will run simultenously, with which we can later compare their respective accuracies easily and determine as to which type of machine learning model will be ideal for this problem. We'll also use accuracy scores to determine the model accuracies."
   ]
  },
  {
   "cell_type": "code",
   "execution_count": 14,
   "metadata": {},
   "outputs": [],
   "source": [
    "def mlmodels(X_train, Y_train):\n",
    "    \n",
    "    from sklearn.linear_model import LogisticRegression\n",
    "    lr = LogisticRegression(random_state=0)\n",
    "    lr.fit(X_train,Y_train)\n",
    "    \n",
    "    from sklearn.neighbors import KNeighborsClassifier\n",
    "    kn = KNeighborsClassifier(n_neighbors=5, metric='minkowski', p=2)\n",
    "    kn.fit(X_train,Y_train)\n",
    "    \n",
    "    from sklearn.svm import SVC\n",
    "    svl = SVC(kernel='linear', random_state=0)\n",
    "    svl.fit(X_train,Y_train)\n",
    "    \n",
    "    from sklearn.svm import SVC\n",
    "    svr = SVC(kernel='rbf', random_state=0)\n",
    "    svr.fit(X_train,Y_train)\n",
    "    \n",
    "    from sklearn.naive_bayes import GaussianNB\n",
    "    gnb = GaussianNB()\n",
    "    gnb.fit(X_train,Y_train)\n",
    "    \n",
    "    from sklearn.tree import DecisionTreeClassifier\n",
    "    dtc = DecisionTreeClassifier(criterion='entropy' , random_state=0)\n",
    "    dtc.fit(X_train,Y_train)\n",
    "    \n",
    "    from sklearn.ensemble import RandomForestClassifier\n",
    "    rfc = RandomForestClassifier(n_estimators=10, criterion='entropy', random_state=0)\n",
    "    rfc.fit(X_train,Y_train)\n",
    "    \n",
    "    print('[1] Logistic Regression Accuracy: ', lr.score(X_train, Y_train))\n",
    "    print('[2] KNeighbors Classifier Accuracy: ', kn.score(X_train, Y_train))\n",
    "    print('[3] SVC linear Regression Accuracy: ', svl.score(X_train, Y_train))\n",
    "    print('[4] SVC rbf Accuracy: ', svr.score(X_train, Y_train))\n",
    "    print('[5] GaussianNB Accuracy: ', gnb.score(X_train, Y_train))\n",
    "    print('[6] Decision Tree Classifier Accuracy: ', dtc.score(X_train, Y_train))\n",
    "    print('[7] Random Forest Classifier Accuracy: ', rfc.score(X_train, Y_train))\n",
    "    \n",
    "    return lr, kn, svl, svr, gnb, dtc, rfc"
   ]
  },
  {
   "cell_type": "code",
   "execution_count": 15,
   "metadata": {},
   "outputs": [
    {
     "name": "stdout",
     "output_type": "stream",
     "text": [
      "[1] Logistic Regression Accuracy:  0.7996485061511424\n",
      "[2] KNeighbors Classifier Accuracy:  0.8523725834797891\n",
      "[3] SVC linear Regression Accuracy:  0.7697715289982425\n",
      "[4] SVC rbf Accuracy:  0.836555360281195\n",
      "[5] GaussianNB Accuracy:  0.7820738137082601\n",
      "[6] Decision Tree Classifier Accuracy:  0.9876977152899824\n",
      "[7] Random Forest Classifier Accuracy:  0.9736379613356766\n"
     ]
    }
   ],
   "source": [
    "mlmodels = mlmodels(X_train, Y_train)"
   ]
  },
  {
   "cell_type": "markdown",
   "metadata": {},
   "source": [
    "The function returns the accuracies of seven different models used to predict. For this particular problem, we see that the decision tree classifier algorithm has the highest accuracy among the seven. Hence, on surface level, it's evident that the decision tree classifier would be the ideal machine learning algorithm useful for this problem. However, this is only accurate for the training data."
   ]
  },
  {
   "cell_type": "markdown",
   "metadata": {},
   "source": [
    "Now, we have to determine as to what works for the testing data. For that, we use a more acute way of predicting values in confusion matrix. This allows us to look at our predicted values in depth. Hence, we import our confusion matrix function from the sklearn library."
   ]
  },
  {
   "cell_type": "code",
   "execution_count": 16,
   "metadata": {},
   "outputs": [
    {
     "name": "stdout",
     "output_type": "stream",
     "text": [
      "[[72  7]\n",
      " [15 49]]\n",
      "Model [0] Testing accuracy = 0.8461538461538461 \n",
      "\n",
      "[[67 12]\n",
      " [19 45]]\n",
      "Model [1] Testing accuracy = 0.7832167832167832 \n",
      "\n",
      "[[70  9]\n",
      " [17 47]]\n",
      "Model [2] Testing accuracy = 0.8181818181818182 \n",
      "\n",
      "[[77  2]\n",
      " [20 44]]\n",
      "Model [3] Testing accuracy = 0.8461538461538461 \n",
      "\n",
      "[[70  9]\n",
      " [18 46]]\n",
      "Model [4] Testing accuracy = 0.8111888111888111 \n",
      "\n",
      "[[65 14]\n",
      " [26 38]]\n",
      "Model [5] Testing accuracy = 0.7202797202797203 \n",
      "\n",
      "[[66 13]\n",
      " [16 48]]\n",
      "Model [6] Testing accuracy = 0.7972027972027972 \n",
      "\n"
     ]
    }
   ],
   "source": [
    "from sklearn.metrics import confusion_matrix\n",
    "\n",
    "for i in range(len(mlmodels)):\n",
    "    cm = confusion_matrix(Y_test, mlmodels[i].predict(X_test))\n",
    "    \n",
    "    TN, FP, FN, TP = confusion_matrix(Y_test, mlmodels[i].predict(X_test)).ravel()\n",
    "    \n",
    "    test_score = (TP + TN) / (TN + FP + FN + TP)\n",
    "    \n",
    "    print(cm)\n",
    "    print(\"Model [{}] Testing accuracy = {} \".format(i, test_score))\n",
    "    print()"
   ]
  },
  {
   "cell_type": "markdown",
   "metadata": {},
   "source": [
    "From the above confusion matrix, we see that the accuracy levels for the testing data is quite different from the training data. Two of the most accurate algorithms (Decision Tree and Random Forest Classifier) for the training data massively underperforms for the testing data. The most accurate algorithm for the testing data happens to be the Logistic Regression and the SVC rbf model. Among these, SVC rbf model is more accurate for the training model."
   ]
  },
  {
   "cell_type": "markdown",
   "metadata": {},
   "source": [
    "All in all, if we choose to follow the model for the training data, we'll end up choosing the Decision Tree or the Random Forest Classifier. But, judging from the testing data, it's better to choose the LogisticRegression or the SVC rbf model, which seem to be the better option."
   ]
  },
  {
   "cell_type": "code",
   "execution_count": null,
   "metadata": {},
   "outputs": [],
   "source": []
  }
 ],
 "metadata": {
  "kernelspec": {
   "display_name": "Python 3",
   "language": "python",
   "name": "python3"
  },
  "language_info": {
   "codemirror_mode": {
    "name": "ipython",
    "version": 3
   },
   "file_extension": ".py",
   "mimetype": "text/x-python",
   "name": "python",
   "nbconvert_exporter": "python",
   "pygments_lexer": "ipython3",
   "version": "3.7.6"
  }
 },
 "nbformat": 4,
 "nbformat_minor": 4
}
